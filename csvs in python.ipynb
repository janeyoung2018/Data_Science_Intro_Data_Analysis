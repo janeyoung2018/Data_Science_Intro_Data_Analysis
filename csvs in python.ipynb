{
 "cells": [
  {
   "cell_type": "markdown",
   "metadata": {},
   "source": [
    "# Load data from csvs"
   ]
  },
  {
   "cell_type": "code",
   "execution_count": 1,
   "metadata": {},
   "outputs": [
    {
     "name": "stdout",
     "output_type": "stream",
     "text": [
      "OrderedDict([('account_key', '448'), ('status', 'canceled'), ('join_date', '2014-11-10'), ('cancel_date', '2015-01-14'), ('days_to_cancel', '65'), ('is_udacity', 'True'), ('is_canceled', 'True')])\n",
      "OrderedDict([('acct', '0'), ('utc_date', '2015-01-09'), ('num_courses_visited', '1.0'), ('total_minutes_visited', '11.6793745'), ('lessons_completed', '0.0'), ('projects_completed', '0.0')])\n",
      "OrderedDict([('creation_date', '2015-01-14'), ('completion_date', '2015-01-16'), ('assigned_rating', 'UNGRADED'), ('account_key', '256'), ('lesson_key', '3176718735'), ('processing_state', 'EVALUATED')])\n"
     ]
    }
   ],
   "source": [
    "import unicodecsv\n",
    "\n",
    "enrollments_filename = 'enrollments.csv'\n",
    "\n",
    "## Longer version of code (replaced with shorter, equivalent version below)\n",
    "\n",
    "# enrollments = []\n",
    "# f = open(enrollments_filename, 'rb')\n",
    "# reader = unicodecsv.DictReader(f)\n",
    "# for row in reader:\n",
    "#     enrollments.append(row)\n",
    "# f.close()\n",
    "\n",
    "with open(enrollments_filename, 'rb') as f:\n",
    "    reader = unicodecsv.DictReader(f)\n",
    "    enrollments = list(reader)\n",
    "    \n",
    "### Write code similar to the above to load the engagement\n",
    "### and submission data. The data is stored in files with\n",
    "### the given filenames. Then print the first row of each\n",
    "### table to make sure that your code works. You can use the\n",
    "### \"Test Run\" button to see the output of your code.\n",
    "\n",
    "engagement_filename = 'daily_engagement.csv'\n",
    "submissions_filename = 'project_submissions.csv'\n",
    "\n",
    "with open(engagement_filename, 'rb') as k:\n",
    "    reader2 = unicodecsv.DictReader(k)\n",
    "    daily_engagement=list(reader2)\n",
    "with open(submissions_filename, 'rb') as l:\n",
    "    reader3 = unicodecsv.DictReader(l)\n",
    "    project_submissions=list(reader3)   \n",
    "\n",
    "print(enrollments[0])    \n",
    "print(daily_engagement[0])   # Replace this with your code\n",
    "print(project_submissions[0])  # Replace this with your code\n"
   ]
  },
  {
   "cell_type": "markdown",
   "metadata": {},
   "source": [
    "# Fixing Data Types"
   ]
  },
  {
   "cell_type": "code",
   "execution_count": 2,
   "metadata": {},
   "outputs": [
    {
     "data": {
      "text/plain": [
       "OrderedDict([('account_key', '448'),\n",
       "             ('status', 'canceled'),\n",
       "             ('join_date', datetime.datetime(2014, 11, 10, 0, 0)),\n",
       "             ('cancel_date', datetime.datetime(2015, 1, 14, 0, 0)),\n",
       "             ('days_to_cancel', 65),\n",
       "             ('is_udacity', True),\n",
       "             ('is_canceled', True)])"
      ]
     },
     "execution_count": 2,
     "metadata": {},
     "output_type": "execute_result"
    }
   ],
   "source": [
    "from datetime import datetime as dt\n",
    "\n",
    "# Takes a date as a string, and returns a Python datetime object. \n",
    "# If there is no date given, returns None\n",
    "def parse_date(date):\n",
    "    if date == '':\n",
    "        return None\n",
    "    else:\n",
    "        return dt.strptime(date, '%Y-%m-%d')\n",
    "    \n",
    "# Takes a string which is either an empty string or represents an integer,\n",
    "# and returns an int or None.\n",
    "def parse_maybe_int(i):\n",
    "    if i == '':\n",
    "        return None\n",
    "    else:\n",
    "        return int(i)\n",
    "\n",
    "# Clean up the data types in the enrollments table\n",
    "for enrollment in enrollments:\n",
    "    enrollment['cancel_date'] = parse_date(enrollment['cancel_date'])\n",
    "    enrollment['days_to_cancel'] = parse_maybe_int(enrollment['days_to_cancel'])\n",
    "    enrollment['is_canceled'] = enrollment['is_canceled'] == 'True'\n",
    "    enrollment['is_udacity'] = enrollment['is_udacity'] == 'True'\n",
    "    enrollment['join_date'] = parse_date(enrollment['join_date'])\n",
    "    \n",
    "enrollments[0]"
   ]
  },
  {
   "cell_type": "code",
   "execution_count": 3,
   "metadata": {},
   "outputs": [
    {
     "data": {
      "text/plain": [
       "OrderedDict([('acct', '0'),\n",
       "             ('utc_date', datetime.datetime(2015, 1, 9, 0, 0)),\n",
       "             ('num_courses_visited', 1),\n",
       "             ('total_minutes_visited', 11.6793745),\n",
       "             ('lessons_completed', 0),\n",
       "             ('projects_completed', 0)])"
      ]
     },
     "execution_count": 3,
     "metadata": {},
     "output_type": "execute_result"
    }
   ],
   "source": [
    "# Clean up the data types in the engagement table\n",
    "for engagement_record in daily_engagement:\n",
    "    engagement_record['lessons_completed'] = int(float(engagement_record['lessons_completed']))\n",
    "    engagement_record['num_courses_visited'] = int(float(engagement_record['num_courses_visited']))\n",
    "    engagement_record['projects_completed'] = int(float(engagement_record['projects_completed']))\n",
    "    engagement_record['total_minutes_visited'] = float(engagement_record['total_minutes_visited'])\n",
    "    engagement_record['utc_date'] = parse_date(engagement_record['utc_date'])\n",
    "    \n",
    "daily_engagement[0]"
   ]
  },
  {
   "cell_type": "code",
   "execution_count": 4,
   "metadata": {},
   "outputs": [
    {
     "data": {
      "text/plain": [
       "OrderedDict([('creation_date', datetime.datetime(2015, 1, 14, 0, 0)),\n",
       "             ('completion_date', datetime.datetime(2015, 1, 16, 0, 0)),\n",
       "             ('assigned_rating', 'UNGRADED'),\n",
       "             ('account_key', '256'),\n",
       "             ('lesson_key', '3176718735'),\n",
       "             ('processing_state', 'EVALUATED')])"
      ]
     },
     "execution_count": 4,
     "metadata": {},
     "output_type": "execute_result"
    }
   ],
   "source": [
    "# Clean up the data types in the submissions table\n",
    "for submission in project_submissions:\n",
    "    submission['completion_date'] = parse_date(submission['completion_date'])\n",
    "    submission['creation_date'] = parse_date(submission['creation_date'])\n",
    "\n",
    "project_submissions[0]"
   ]
  },
  {
   "cell_type": "markdown",
   "metadata": {},
   "source": [
    "# Problems in the Data"
   ]
  },
  {
   "cell_type": "code",
   "execution_count": 5,
   "metadata": {},
   "outputs": [
    {
     "name": "stdout",
     "output_type": "stream",
     "text": [
      "0\n"
     ]
    }
   ],
   "source": [
    "#change key 'acct' to 'account_keys' in list daily_engagement\n",
    "for element in daily_engagement:\n",
    "    element['account_key']=element['acct']\n",
    "    element.pop('acct')\n",
    "print(daily_engagement[0]['account_key'])    "
   ]
  },
  {
   "cell_type": "markdown",
   "metadata": {},
   "source": [
    "# Investigating the Data"
   ]
  },
  {
   "cell_type": "code",
   "execution_count": 6,
   "metadata": {},
   "outputs": [
    {
     "name": "stdout",
     "output_type": "stream",
     "text": [
      "1640\n",
      "136240\n",
      "3642\n"
     ]
    }
   ],
   "source": [
    "enrollment_num_rows = len(enrollments)           # Replace this with your code\n",
    "#enrollment_num_unique_students = 0  # Replace this with your code\n",
    "print(enrollment_num_rows)\n",
    "\n",
    "engagement_num_rows = len(daily_engagement)           # Replace this with your code\n",
    "#engagement_num_unique_students = 0  # Replace this with your code\n",
    "print(engagement_num_rows)\n",
    "\n",
    "submission_num_rows = len(project_submissions)           # Replace this with your code\n",
    "#submission_num_unique_students = 0  # Replace this with your code\n",
    "print(submission_num_rows)"
   ]
  },
  {
   "cell_type": "code",
   "execution_count": 7,
   "metadata": {},
   "outputs": [],
   "source": [
    "def unique_students(list_name):\n",
    "    unique_students_list=[]\n",
    "    for element in list_name:\n",
    "       if element['account_key'] not in unique_students_list:\n",
    "            unique_students_list.append(element['account_key'])\n",
    "    return unique_students_list       "
   ]
  },
  {
   "cell_type": "code",
   "execution_count": 8,
   "metadata": {},
   "outputs": [
    {
     "name": "stdout",
     "output_type": "stream",
     "text": [
      "1302\n",
      "1237\n",
      "743\n"
     ]
    }
   ],
   "source": [
    "account_keys_in_enrollments=unique_students(enrollments)\n",
    "enrollment_num_unique_students = len(account_keys_in_enrollments) \n",
    "print(enrollment_num_unique_students)\n",
    "\n",
    "account_keys_in_daily_engagement=unique_students(daily_engagement)\n",
    "engagement_num_unique_students = len(account_keys_in_daily_engagement) \n",
    "print(engagement_num_unique_students)\n",
    "\n",
    "account_keys_in_project_submissions=unique_students(project_submissions)\n",
    "submission_num_unique_students=len(account_keys_in_project_submissions) \n",
    "print(submission_num_unique_students)"
   ]
  },
  {
   "cell_type": "markdown",
   "metadata": {},
   "source": [
    "account_keys_in_enrollments=[]\n",
    "for enrollment in enrollments:\n",
    "    if enrollment['account_key'] not in account_keys_in_enrollments:\n",
    "       account_keys_in_enrollments.append(enrollment['account_key']) \n",
    "enrollment_num_unique_students = len(account_keys_in_enrollments) \n",
    "print(enrollment_num_unique_students)"
   ]
  },
  {
   "cell_type": "markdown",
   "metadata": {},
   "source": [
    "account_keys_in_daily_engagement=[]\n",
    "for engagement in daily_engagement:\n",
    "    if engagement['acct'] not in account_keys_in_daily_engagement:\n",
    "       account_keys_in_daily_engagement.append(engagement['acct']) \n",
    "engagement_num_unique_students = len(account_keys_in_daily_engagement) \n",
    "print(engagement_num_unique_students)"
   ]
  },
  {
   "cell_type": "markdown",
   "metadata": {},
   "source": [
    "account_keys_in_project_submissions=[]\n",
    "for submission in project_submissions:\n",
    "    if submission['account_key'] not in account_keys_in_project_submissions:\n",
    "       account_keys_in_project_submissions.append(submission['account_key']) \n",
    "submission_num_unique_students=len(account_keys_in_project_submissions) \n",
    "print(submission_num_unique_students)"
   ]
  },
  {
   "cell_type": "code",
   "execution_count": 9,
   "metadata": {
    "scrolled": true
   },
   "outputs": [
    {
     "name": "stdout",
     "output_type": "stream",
     "text": [
      "['1219', '871', '1218', '654', '964', '817', '1171', '884', '875', '1120', '728', '1191', '1304', '1010', '841', '707', '717', '727', '1273', '1238', '1044', '749', '1129', '926', '711', '803', '799', '789', '819', '902', '996', '1213', '733', '1237', '1069', '1086', '1190', '914', '968', '1155', '766', '739', '1222', '1125', '1025', '750', '889', '737', '878', '981', '1101', '1148', '1186', '725', '1145', '802', '664', '997', '870', '1284', '1079', '1063', '1270', '1291', '1241']\n",
      "65\n"
     ]
    }
   ],
   "source": [
    "special_students=[]\n",
    "for element in account_keys_in_enrollments:\n",
    "    if element not in account_keys_in_daily_engagement:\n",
    "        special_students.append(element)\n",
    "print(special_students)\n",
    "print(len(special_students))"
   ]
  },
  {
   "cell_type": "code",
   "execution_count": 10,
   "metadata": {},
   "outputs": [
    {
     "name": "stdout",
     "output_type": "stream",
     "text": [
      "{'1120', '1186', '750', '654', '964', '926', '997', '1145', '711', '1191', '914', '802', '871', '819', '664', '739', '1238', '1222', '1044', '749', '902', '803', '733', '1218', '968', '981', '1190', '728', '707', '1125', '1025', '1171', '1079', '841', '817', '1219', '1069', '1213', '878', '717', '1284', '1086', '766', '889', '1010', '1129', '996', '1148', '1155', '1237', '884', '1241', '789', '737', '799', '1273', '870', '1270', '725', '1063', '875', '1291', '727'}\n",
      "63\n"
     ]
    }
   ],
   "source": [
    "time_duration=set()\n",
    "for element in enrollments:\n",
    "    if element['account_key'] in special_students:\n",
    "        if element['join_date']==element['cancel_date']:\n",
    "            time_duration.add(element['account_key'])\n",
    "print(time_duration) \n",
    "print(len(time_duration))"
   ]
  },
  {
   "cell_type": "code",
   "execution_count": 11,
   "metadata": {},
   "outputs": [
    {
     "name": "stdout",
     "output_type": "stream",
     "text": [
      "{'1304', '1101'}\n",
      "2\n"
     ]
    }
   ],
   "source": [
    "time_duration2=set()\n",
    "for element in enrollments:\n",
    "    if element['account_key'] in special_students:\n",
    "        if element['join_date']!=element['cancel_date']:\n",
    "            time_duration2.add(element['account_key'])\n",
    "print(time_duration2) \n",
    "print(len(time_duration2))"
   ]
  },
  {
   "cell_type": "code",
   "execution_count": 12,
   "metadata": {},
   "outputs": [
    {
     "name": "stdout",
     "output_type": "stream",
     "text": [
      "OrderedDict([('account_key', '1101'), ('status', 'current'), ('join_date', datetime.datetime(2015, 2, 25, 0, 0)), ('cancel_date', None), ('days_to_cancel', None), ('is_udacity', True), ('is_canceled', False)])\n"
     ]
    }
   ],
   "source": [
    "for element in enrollments:\n",
    "    if element['account_key']=='1101':\n",
    "        print(element)\n",
    "        break"
   ]
  },
  {
   "cell_type": "code",
   "execution_count": 13,
   "metadata": {},
   "outputs": [
    {
     "name": "stdout",
     "output_type": "stream",
     "text": [
      "OrderedDict([('account_key', '1304'), ('status', 'canceled'), ('join_date', datetime.datetime(2015, 1, 10, 0, 0)), ('cancel_date', datetime.datetime(2015, 3, 10, 0, 0)), ('days_to_cancel', 59), ('is_udacity', True), ('is_canceled', True)])\n"
     ]
    }
   ],
   "source": [
    "for element in enrollments:\n",
    "    if element['account_key']=='1304':\n",
    "        print(element)\n",
    "        break"
   ]
  },
  {
   "cell_type": "markdown",
   "metadata": {},
   "source": [
    "#guess reason canceled not include in daily_engagement proved wrong\n",
    "canceled_account_keys=[]\n",
    "for element in enrollments:\n",
    "    if element['status']=='canceled':\n",
    "        if element['account_key'] not in canceled_account_keys:\n",
    "            canceled_account_keys.append(element['account_key'])\n",
    "#print(canceled_account_keys)            \n",
    "            \n",
    "special_students2=[]\n",
    "for element in special_students:\n",
    "    if element not in canceled_account_keys:\n",
    "        special_students2.append(element)\n",
    "print(special_students2)        "
   ]
  },
  {
   "cell_type": "code",
   "execution_count": 14,
   "metadata": {},
   "outputs": [
    {
     "name": "stdout",
     "output_type": "stream",
     "text": [
      "{'apple', 'banana'}\n"
     ]
    }
   ],
   "source": [
    "thisset=set()\n",
    "thisset.add('apple')\n",
    "thisset.add('banana')\n",
    "thisset.add('apple')\n",
    "print(thisset)"
   ]
  },
  {
   "cell_type": "code",
   "execution_count": 15,
   "metadata": {},
   "outputs": [
    {
     "name": "stdout",
     "output_type": "stream",
     "text": [
      "6\n",
      "{'448', '1069', '312', '818', '1304', '1101'}\n"
     ]
    }
   ],
   "source": [
    "udacity_test_accounts=set()\n",
    "for enrollment in enrollments:\n",
    "    if enrollment['is_udacity']:\n",
    "        udacity_test_accounts.add(enrollment['account_key'])\n",
    "print(len(udacity_test_accounts))  \n",
    "print(udacity_test_accounts)"
   ]
  },
  {
   "cell_type": "code",
   "execution_count": 16,
   "metadata": {},
   "outputs": [
    {
     "name": "stdout",
     "output_type": "stream",
     "text": [
      "OrderedDict([('account_key', '1069'), ('status', 'canceled'), ('join_date', datetime.datetime(2015, 6, 1, 0, 0)), ('cancel_date', datetime.datetime(2015, 6, 1, 0, 0)), ('days_to_cancel', 0), ('is_udacity', True), ('is_canceled', True)])\n"
     ]
    }
   ],
   "source": [
    "for element in enrollments:\n",
    "    if element['account_key']=='1069':\n",
    "        print(element)\n",
    "        break"
   ]
  },
  {
   "cell_type": "code",
   "execution_count": 17,
   "metadata": {},
   "outputs": [],
   "source": [
    "def remove_udacity_accounts(list_name):\n",
    "    non_udacity_list=[]\n",
    "    for element in list_name:\n",
    "        if element['account_key'] not in udacity_test_accounts:\n",
    "            non_udacity_list.append(element)\n",
    "    return non_udacity_list        "
   ]
  },
  {
   "cell_type": "code",
   "execution_count": 18,
   "metadata": {},
   "outputs": [
    {
     "name": "stdout",
     "output_type": "stream",
     "text": [
      "1622\n",
      "135656\n",
      "3634\n"
     ]
    }
   ],
   "source": [
    "non_udacity_enrollments=remove_udacity_accounts(enrollments)  \n",
    "non_udacity_engagement=remove_udacity_accounts(daily_engagement) \n",
    "non_udacity_submissions=remove_udacity_accounts(project_submissions) \n",
    "\n",
    "print(len(non_udacity_enrollments))\n",
    "print(len(non_udacity_engagement))\n",
    "print(len(non_udacity_submissions))"
   ]
  },
  {
   "cell_type": "markdown",
   "metadata": {},
   "source": [
    "# Data from first week"
   ]
  },
  {
   "cell_type": "code",
   "execution_count": 19,
   "metadata": {},
   "outputs": [
    {
     "name": "stdout",
     "output_type": "stream",
     "text": [
      "995\n"
     ]
    }
   ],
   "source": [
    "paid_student={}\n",
    "for element in non_udacity_enrollments:\n",
    "    if not element['is_canceled'] or element['days_to_cancel']>7:\n",
    "        if element['account_key'] not in paid_student or \\\n",
    "           element['join_date']>paid_student[element['account_key']]:\n",
    "            paid_student[element['account_key']]=element['join_date']\n",
    "    \n",
    "            \n",
    "print(len(paid_student))    "
   ]
  },
  {
   "cell_type": "code",
   "execution_count": 20,
   "metadata": {},
   "outputs": [],
   "source": [
    "# Takes a student's join date and the date of a specific engagement record,\n",
    "# and returns True if that engagement record happened within one week\n",
    "# of the student joining.\n",
    "def within_one_week(join_date, engagement_date):\n",
    "    time_delta = engagement_date - join_date\n",
    "    return time_delta.days < 7 and time_delta.days >= 0"
   ]
  },
  {
   "cell_type": "code",
   "execution_count": 21,
   "metadata": {},
   "outputs": [
    {
     "name": "stdout",
     "output_type": "stream",
     "text": [
      "6919\n",
      "OrderedDict([('utc_date', datetime.datetime(2015, 1, 11, 0, 0)), ('num_courses_visited', 2), ('total_minutes_visited', 53.6337463333), ('lessons_completed', 0), ('projects_completed', 0), ('account_key', '0')])\n"
     ]
    }
   ],
   "source": [
    "paid_engagement_in_first_week = []\n",
    "for element in non_udacity_engagement:\n",
    "    acct=element['account_key']\n",
    "    if acct in paid_student:\n",
    "        if within_one_week(paid_student[acct],element['utc_date']):\n",
    "            paid_engagement_in_first_week.append(element)\n",
    "            \n",
    "print(len(paid_engagement_in_first_week))           \n",
    "print(paid_engagement_in_first_week[2])"
   ]
  },
  {
   "cell_type": "markdown",
   "metadata": {},
   "source": [
    "# Exploring student engagement"
   ]
  },
  {
   "cell_type": "code",
   "execution_count": 22,
   "metadata": {},
   "outputs": [
    {
     "name": "stdout",
     "output_type": "stream",
     "text": [
      "995\n",
      "[OrderedDict([('utc_date', datetime.datetime(2015, 1, 9, 0, 0)), ('num_courses_visited', 1), ('total_minutes_visited', 11.6793745), ('lessons_completed', 0), ('projects_completed', 0), ('account_key', '0')]), OrderedDict([('utc_date', datetime.datetime(2015, 1, 10, 0, 0)), ('num_courses_visited', 2), ('total_minutes_visited', 37.2848873333), ('lessons_completed', 0), ('projects_completed', 0), ('account_key', '0')]), OrderedDict([('utc_date', datetime.datetime(2015, 1, 11, 0, 0)), ('num_courses_visited', 2), ('total_minutes_visited', 53.6337463333), ('lessons_completed', 0), ('projects_completed', 0), ('account_key', '0')]), OrderedDict([('utc_date', datetime.datetime(2015, 1, 12, 0, 0)), ('num_courses_visited', 1), ('total_minutes_visited', 33.4892696667), ('lessons_completed', 0), ('projects_completed', 0), ('account_key', '0')]), OrderedDict([('utc_date', datetime.datetime(2015, 1, 13, 0, 0)), ('num_courses_visited', 1), ('total_minutes_visited', 64.7796776667), ('lessons_completed', 0), ('projects_completed', 0), ('account_key', '0')]), OrderedDict([('utc_date', datetime.datetime(2015, 1, 14, 0, 0)), ('num_courses_visited', 1), ('total_minutes_visited', 151.617576833), ('lessons_completed', 1), ('projects_completed', 0), ('account_key', '0')]), OrderedDict([('utc_date', datetime.datetime(2015, 1, 15, 0, 0)), ('num_courses_visited', 1), ('total_minutes_visited', 142.395963833), ('lessons_completed', 0), ('projects_completed', 0), ('account_key', '0')])]\n"
     ]
    }
   ],
   "source": [
    "from collections import defaultdict\n",
    "\n",
    "engagement_by_account=defaultdict(list)\n",
    "for element in paid_engagement_in_first_week:\n",
    "    acct=element['account_key']\n",
    "    engagement_by_account[acct].append(element)\n",
    "print(len(engagement_by_account))\n",
    "print(engagement_by_account['0'])"
   ]
  },
  {
   "cell_type": "code",
   "execution_count": 23,
   "metadata": {},
   "outputs": [],
   "source": [
    "total_minutes_by_account={}\n",
    "\n",
    "for account_key, engagement_for_student in engagement_by_account.items():\n",
    "    total_minutes=0\n",
    "    for element in engagement_for_student:\n",
    "        total_minutes+=element['total_minutes_visited']\n",
    "    total_minutes_by_account[account_key]=total_minutes    "
   ]
  },
  {
   "cell_type": "code",
   "execution_count": 24,
   "metadata": {},
   "outputs": [
    {
     "name": "stdout",
     "output_type": "stream",
     "text": [
      "Mean: 306.70832675342825\n",
      "Standard deviation: 412.99693340852957\n",
      "Minimum: 0.0\n",
      "Maximum: 3564.7332644989997\n"
     ]
    }
   ],
   "source": [
    "##python3 list\n",
    "total_minutes=list(total_minutes_by_account.values())\n",
    "\n",
    "import numpy as np\n",
    "\n",
    "print('Mean:', np.mean(total_minutes))\n",
    "print('Standard deviation:', np.std(total_minutes))\n",
    "print('Minimum:', np.min(total_minutes))\n",
    "print('Maximum:', np.max(total_minutes))"
   ]
  },
  {
   "cell_type": "code",
   "execution_count": 25,
   "metadata": {},
   "outputs": [],
   "source": [
    "lessons_completed_by_account={}\n",
    "\n",
    "for account_key, engagement_for_student in engagement_by_account.items():\n",
    "    lessons_completed=0\n",
    "    for element in engagement_for_student:\n",
    "            lessons_completed=lessons_completed+element['lessons_completed']\n",
    "    lessons_completed_by_account[account_key]=lessons_completed    "
   ]
  },
  {
   "cell_type": "code",
   "execution_count": 26,
   "metadata": {},
   "outputs": [
    {
     "name": "stdout",
     "output_type": "stream",
     "text": [
      "Mean: 1.636180904522613\n",
      "Standard deviation: 3.002561299829423\n",
      "Minimum: 0\n",
      "Maximum: 36\n"
     ]
    }
   ],
   "source": [
    "lessons_completed=list(lessons_completed_by_account.values())\n",
    "\n",
    "import numpy as np\n",
    "\n",
    "print('Mean:', np.mean(lessons_completed))\n",
    "print('Standard deviation:', np.std(lessons_completed))\n",
    "print('Minimum:', np.min(lessons_completed))\n",
    "print('Maximum:', np.max(lessons_completed))"
   ]
  },
  {
   "cell_type": "markdown",
   "metadata": {},
   "source": [
    "# Number of days visited"
   ]
  },
  {
   "cell_type": "code",
   "execution_count": 30,
   "metadata": {},
   "outputs": [],
   "source": [
    "total_days_by_account={}\n",
    "\n",
    "for account_key, engagement_for_student in engagement_by_account.items():\n",
    "    total_days=0\n",
    "    for element in engagement_for_student:\n",
    "        if element['total_minutes_visited']>0:\n",
    "            total_days+=1\n",
    "    total_days_by_account[account_key]=total_days   "
   ]
  },
  {
   "cell_type": "code",
   "execution_count": 31,
   "metadata": {},
   "outputs": [
    {
     "name": "stdout",
     "output_type": "stream",
     "text": [
      "Mean: 2.8673366834170855\n",
      "Standard deviation: 2.2551980029196814\n",
      "Minimum: 0\n",
      "Maximum: 7\n"
     ]
    }
   ],
   "source": [
    "days_visited=list(total_days_by_account.values())\n",
    "\n",
    "import numpy as np\n",
    "\n",
    "print('Mean:', np.mean(days_visited))\n",
    "print('Standard deviation:', np.std(days_visited))\n",
    "print('Minimum:', np.min(days_visited))\n",
    "print('Maximum:', np.max(days_visited))"
   ]
  },
  {
   "cell_type": "markdown",
   "metadata": {},
   "source": [
    "# splitting out passing student"
   ]
  },
  {
   "cell_type": "code",
   "execution_count": 60,
   "metadata": {},
   "outputs": [
    {
     "name": "stdout",
     "output_type": "stream",
     "text": [
      "4527\n",
      "2392\n",
      "OrderedDict([('utc_date', datetime.datetime(2015, 1, 9, 0, 0)), ('num_courses_visited', 1), ('total_minutes_visited', 11.6793745), ('lessons_completed', 0), ('projects_completed', 0), ('account_key', '0')])\n"
     ]
    }
   ],
   "source": [
    "## Create two lists of engagement data for paid students in the first week.\n",
    "## The first list should contain data for students who eventually pass the\n",
    "## subway project, and the second list should contain data for students\n",
    "## who do not.\n",
    "\n",
    "passing_engagement = []\n",
    "non_passing_engagement = []\n",
    "subway_project_lesson_keys = ['746169184', '3176718735']\n",
    "pass_project = set()\n",
    "for submission in non_udacity_submissions:\n",
    "    rating = submission['assigned_rating']\n",
    "    project = submission['lesson_key']\n",
    "    if project in subway_project_lesson_keys and (rating == 'PASSED' or rating == 'DISTINCTION'):\n",
    "        pass_project.add(submission['account_key'])\n",
    "\n",
    "for engagement in paid_engagement_in_first_week:\n",
    "    if engagement['account_key'] in pass_project:\n",
    "        passing_engagement.append(engagement)\n",
    "    else:\n",
    "        non_passing_engagement.append(engagement)\n",
    "print(len(passing_engagement))\n",
    "print(len(non_passing_engagement))\n",
    "                    \n",
    "print(passing_engagement[0])                    "
   ]
  },
  {
   "cell_type": "markdown",
   "metadata": {},
   "source": [
    "# Comparing the Two Student Groups"
   ]
  },
  {
   "cell_type": "code",
   "execution_count": 62,
   "metadata": {},
   "outputs": [],
   "source": [
    "def sum_grouped_items(data, key_name):\n",
    "    from collections import defaultdict\n",
    "    \n",
    "    engagement_by_account=defaultdict(list)\n",
    "    for element in data:\n",
    "        acct=element['account_key']\n",
    "        engagement_by_account[acct].append(element)\n",
    "        \n",
    "    total_values_by_key_name={}\n",
    "    for account_key, engagement_for_student in engagement_by_account.items():\n",
    "        total_values=0\n",
    "        for element in engagement_for_student:\n",
    "            total_values+=element[key_name]\n",
    "        total_values_by_key_name[account_key]=total_values\n",
    "    return total_values_by_key_name  "
   ]
  },
  {
   "cell_type": "code",
   "execution_count": 65,
   "metadata": {},
   "outputs": [
    {
     "name": "stdout",
     "output_type": "stream",
     "text": [
      "Mean: 394.58604648350865\n",
      "Standard deviation: 448.4995193265521\n",
      "Minimum: 0.0\n",
      "Maximum: 3564.7332644989997\n"
     ]
    }
   ],
   "source": [
    "total_minutes_passing_engagement=sum_grouped_items(passing_engagement, 'total_minutes_visited')\n",
    "total_minutes_passing_engagement1=list(total_minutes_passing_engagement.values())\n",
    "\n",
    "\n",
    "import numpy as np\n",
    "\n",
    "print('Mean:', np.mean(total_minutes_passing_engagement1))\n",
    "print('Standard deviation:', np.std(total_minutes_passing_engagement1))\n",
    "print('Minimum:', np.min(total_minutes_passing_engagement1))\n",
    "print('Maximum:', np.max(total_minutes_passing_engagement1))\n"
   ]
  },
  {
   "cell_type": "code",
   "execution_count": 66,
   "metadata": {},
   "outputs": [
    {
     "data": {
      "text/plain": [
       "(array([370., 155.,  83.,  19.,  10.,   4.,   2.,   3.,   0.,   1.]),\n",
       " array([   0.        ,  356.47332645,  712.9466529 , 1069.41997935,\n",
       "        1425.8933058 , 1782.36663225, 2138.8399587 , 2495.31328515,\n",
       "        2851.7866116 , 3208.25993805, 3564.7332645 ]),\n",
       " <a list of 10 Patch objects>)"
      ]
     },
     "execution_count": 66,
     "metadata": {},
     "output_type": "execute_result"
    },
    {
     "data": {
      "image/png": "[encoded data removed]",
      "text/plain": [
       "<Figure size 432x288 with 1 Axes>"
      ]
     },
     "metadata": {
      "needs_background": "light"
     },
     "output_type": "display_data"
    }
   ],
   "source": [
    "%matplotlib inline\n",
    "import matplotlib.pyplot as plt\n",
    "plt.hist(total_minutes_passing_engagement1)"
   ]
  },
  {
   "cell_type": "code",
   "execution_count": 64,
   "metadata": {},
   "outputs": [
    {
     "name": "stdout",
     "output_type": "stream",
     "text": [
      "Mean: 143.32647426675584\n",
      "Standard deviation: 269.5386190114951\n",
      "Minimum: 0.0\n",
      "Maximum: 1768.5227493319999\n"
     ]
    }
   ],
   "source": [
    "total_minutes_non_passing_engagement=list(sum_grouped_items(non_passing_engagement,'total_minutes_visited').values())\n",
    "\n",
    "import numpy as np\n",
    "\n",
    "print('Mean:', np.mean(total_minutes_non_passing_engagement))\n",
    "print('Standard deviation:', np.std(total_minutes_non_passing_engagement))\n",
    "print('Minimum:', np.min(total_minutes_non_passing_engagement))\n",
    "print('Maximum:', np.max(total_minutes_non_passing_engagement))\n",
    "\n"
   ]
  },
  {
   "cell_type": "markdown",
   "metadata": {},
   "source": [
    "# Making Histograms"
   ]
  },
  {
   "cell_type": "code",
   "execution_count": 68,
   "metadata": {},
   "outputs": [
    {
     "data": {
      "text/plain": [
       "(array([272.,  34.,  17.,   9.,   6.,   2.,   1.,   5.,   0.,   2.]),\n",
       " array([   0.        ,  176.85227493,  353.70454987,  530.5568248 ,\n",
       "         707.40909973,  884.26137467, 1061.1136496 , 1237.96592453,\n",
       "        1414.81819947, 1591.6704744 , 1768.52274933]),\n",
       " <a list of 10 Patch objects>)"
      ]
     },
     "execution_count": 68,
     "metadata": {},
     "output_type": "execute_result"
    },
    {
     "data": {
      "image/png": "[encoded data removed]",
      "text/plain": [
       "<Figure size 432x288 with 1 Axes>"
      ]
     },
     "metadata": {
      "needs_background": "light"
     },
     "output_type": "display_data"
    }
   ],
   "source": [
    "%matplotlib inline\n",
    "import matplotlib.pyplot as plt\n",
    "plt.hist(total_minutes_passing_engagement1)\n",
    "plt.hist(total_minutes_non_passing_engagement)"
   ]
  },
  {
   "cell_type": "markdown",
   "metadata": {},
   "source": [
    "# Improving Plots and Sharing Findings"
   ]
  },
  {
   "cell_type": "code",
   "execution_count": 74,
   "metadata": {},
   "outputs": [
    {
     "data": {
      "text/plain": [
       "Text(0.5, 1.0, 'Distribution of total minutes visited in the first week for students who pass the subway project')"
      ]
     },
     "execution_count": 74,
     "metadata": {},
     "output_type": "execute_result"
    },
    {
     "data": {
      "image/png": "[encoded data removed]",
      "text/plain": [
       "<Figure size 1440x360 with 2 Axes>"
      ]
     },
     "metadata": {},
     "output_type": "display_data"
    }
   ],
   "source": [
    "import seaborn as sns\n",
    "sns.set()\n",
    "fig, axs = plt.subplots(ncols=2, nrows=1, figsize=(20, 5))\n",
    "plt.subplot(1, 2, 1)\n",
    "plt.hist(total_minutes_non_passing_engagement)\n",
    "plt.xlabel('Total Minutes Visited')\n",
    "plt.title('Distribution of total minutes visited in the first week ' + \n",
    "          'for students who do not pass the subway project')\n",
    "plt.subplot(1, 2, 2)\n",
    "plt.hist(total_minutes_passing_engagement1)\n",
    "plt.xlabel('Total Minutes Visited')\n",
    "plt.title('Distribution of total minutes visited in the first week ' + \n",
    "          'for students who pass the subway project')"
   ]
  },
  {
   "cell_type": "code",
   "execution_count": 75,
   "metadata": {},
   "outputs": [
    {
     "name": "stdout",
     "output_type": "stream",
     "text": [
      "2\n"
     ]
    }
   ],
   "source": [
    "print(True+True)"
   ]
  },
  {
   "cell_type": "code",
   "execution_count": 76,
   "metadata": {},
   "outputs": [
    {
     "name": "stdout",
     "output_type": "stream",
     "text": [
      "1\n"
     ]
    }
   ],
   "source": [
    "print(False+True)"
   ]
  },
  {
   "cell_type": "code",
   "execution_count": 77,
   "metadata": {},
   "outputs": [
    {
     "name": "stdout",
     "output_type": "stream",
     "text": [
      "0\n"
     ]
    }
   ],
   "source": [
    "print(False+False)"
   ]
  },
  {
   "cell_type": "code",
   "execution_count": 78,
   "metadata": {},
   "outputs": [
    {
     "name": "stdout",
     "output_type": "stream",
     "text": [
      "[True, False, False, True]\n"
     ]
    }
   ],
   "source": [
    "print([True,False]+[False,True])"
   ]
  },
  {
   "cell_type": "code",
   "execution_count": 1,
   "metadata": {},
   "outputs": [
    {
     "name": "stdout",
     "output_type": "stream",
     "text": [
      "   ENTRIESn    EXITSn\n",
      "0  0.416667  0.000000\n",
      "1  1.666667  0.416667\n",
      "2  2.500000  0.833333\n",
      "3  2.708333  2.500000\n",
      "4  3.541667  2.500000\n"
     ]
    }
   ],
   "source": [
    "import pandas as pd\n",
    "\n",
    "entries_and_exits = pd.DataFrame(\n",
    "    {'ENTRIESn': [10, 40, 60, 65, 85], 'EXITSn': [0, 10, 20, 60, 60]},\n",
    "    index=[0, 1, 2, 3, 4]\n",
    ")\n",
    "hourly_entries_and_exits=entries_and_exits/24\n",
    "print(hourly_entries_and_exits)"
   ]
  },
  {
   "cell_type": "code",
   "execution_count": null,
   "metadata": {},
   "outputs": [],
   "source": []
  }
 ],
 "metadata": {
  "kernelspec": {
   "display_name": "Python 3",
   "language": "python",
   "name": "python3"
  },
  "language_info": {
   "codemirror_mode": {
    "name": "ipython",
    "version": 3
   },
   "file_extension": ".py",
   "mimetype": "text/x-python",
   "name": "python",
   "nbconvert_exporter": "python",
   "pygments_lexer": "ipython3",
   "version": "3.7.3"
  }
 },
 "nbformat": 4,
 "nbformat_minor": 2
}
